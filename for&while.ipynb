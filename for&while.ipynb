{
  "nbformat": 4,
  "nbformat_minor": 0,
  "metadata": {
    "colab": {
      "provenance": []
    },
    "kernelspec": {
      "name": "python3",
      "display_name": "Python 3"
    },
    "language_info": {
      "name": "python"
    }
  },
  "cells": [
    {
      "cell_type": "code",
      "execution_count": 7,
      "metadata": {
        "colab": {
          "base_uri": "https://localhost:8080/"
        },
        "id": "TiFd5yOvBkVm",
        "outputId": "db675da7-1640-4dbc-c6dc-7176e7fe9d38"
      },
      "outputs": [
        {
          "output_type": "stream",
          "name": "stdout",
          "text": [
            "1×1=1\n",
            "1×2=2\n",
            "1×3=3\n",
            "1×4=4\n",
            "1×5=5\n",
            "1×6=6\n",
            "1×7=7\n",
            "1×8=8\n",
            "1×9=9\n",
            "2×1=2\n",
            "2×2=4\n",
            "2×3=6\n",
            "2×4=8\n",
            "2×5=10\n",
            "2×6=12\n",
            "2×7=14\n",
            "2×8=16\n",
            "2×9=18\n",
            "3×1=3\n",
            "3×2=6\n",
            "3×3=9\n",
            "3×4=12\n",
            "3×5=15\n",
            "3×6=18\n",
            "3×7=21\n",
            "3×8=24\n",
            "3×9=27\n",
            "4×1=4\n",
            "4×2=8\n",
            "4×3=12\n",
            "4×4=16\n",
            "4×5=20\n",
            "4×6=24\n",
            "4×7=28\n",
            "4×8=32\n",
            "4×9=36\n",
            "5×1=5\n",
            "5×2=10\n",
            "5×3=15\n",
            "5×4=20\n",
            "5×5=25\n",
            "5×6=30\n",
            "5×7=35\n",
            "5×8=40\n",
            "5×9=45\n",
            "6×1=6\n",
            "6×2=12\n",
            "6×3=18\n",
            "6×4=24\n",
            "6×5=30\n",
            "6×6=36\n",
            "6×7=42\n",
            "6×8=48\n",
            "6×9=54\n",
            "7×1=7\n",
            "7×2=14\n",
            "7×3=21\n",
            "7×4=28\n",
            "7×5=35\n",
            "7×6=42\n",
            "7×7=49\n",
            "7×8=56\n",
            "7×9=63\n",
            "8×1=8\n",
            "8×2=16\n",
            "8×3=24\n",
            "8×4=32\n",
            "8×5=40\n",
            "8×6=48\n",
            "8×7=56\n",
            "8×8=64\n",
            "8×9=72\n",
            "9×1=9\n",
            "9×2=18\n",
            "9×3=27\n",
            "9×4=36\n",
            "9×5=45\n",
            "9×6=54\n",
            "9×7=63\n",
            "9×8=72\n",
            "9×9=81\n"
          ]
        }
      ],
      "source": [
        "for i in range(1,10):\n",
        "  for j in range(1,10):\n",
        "      product=i*j\n",
        "      print(f\"{i}×{j}={product}\")"
      ]
    },
    {
      "cell_type": "code",
      "source": [
        "from typing import AnyStr\n",
        "import random\n",
        "# 生成一個隨機數字，這是要猜的數字\n",
        "target_number = random.randint(1, 100)\n",
        "\n",
        "print(\"歡迎參加猜數字遊戲！\")\n",
        "ans=0\n",
        "while ans==0:\n",
        "  guess = int(input(\"猜數字！\"))\n",
        "  if guess > target_number:\n",
        "    print(\"小一點\")\n",
        "  elif guess < target_number:\n",
        "    print(\"大一點\")\n",
        "  else:\n",
        "    print(f\"猜對囉，答案是 {target_number}\")\n",
        "    ans=1\n",
        "print(\"遊戲結束。\")"
      ],
      "metadata": {
        "colab": {
          "base_uri": "https://localhost:8080/"
        },
        "id": "sF81n8N_EdHf",
        "outputId": "6675878b-25eb-443e-d7b1-e0b69417af7e"
      },
      "execution_count": 42,
      "outputs": [
        {
          "output_type": "stream",
          "name": "stdout",
          "text": [
            "歡迎參加猜數字遊戲！\n",
            "猜數字！50\n",
            "大一點\n",
            "猜數字！75\n",
            "大一點\n",
            "猜數字！80\n",
            "小一點\n",
            "猜數字！77\n",
            "大一點\n",
            "猜數字！79\n",
            "小一點\n",
            "猜數字！78\n",
            "猜對囉，答案是 78\n",
            "遊戲結束。\n"
          ]
        }
      ]
    }
  ]
}