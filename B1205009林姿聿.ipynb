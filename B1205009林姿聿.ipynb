{
  "nbformat": 4,
  "nbformat_minor": 0,
  "metadata": {
    "colab": {
      "provenance": []
    },
    "kernelspec": {
      "name": "python3",
      "display_name": "Python 3"
    },
    "language_info": {
      "name": "python"
    }
  },
  "cells": [
    {
      "cell_type": "code",
      "execution_count": 14,
      "metadata": {
        "id": "lwfpL4WVAxeg",
        "colab": {
          "base_uri": "https://localhost:8080/"
        },
        "outputId": "8763bdc2-c4c7-4693-cf13-9de8d7653cb5"
      },
      "outputs": [
        {
          "output_type": "stream",
          "name": "stdout",
          "text": [
            "name:林姿聿,學號:B1205009,資料型態:dict\n"
          ]
        }
      ],
      "source": [
        "my_dict={\"name\":\"林姿聿\",\"學號\":\"B1205009\",\"資料型態\":\"dict\"}\n",
        "name=my_dict[\"name\"]\n",
        "學號=my_dict[\"學號\"]\n",
        "資料型態=my_dict[\"資料型態\"]\n",
        "print(f\"name:{name},學號:{學號},資料型態:{資料型態}\")"
      ]
    }
  ]
}