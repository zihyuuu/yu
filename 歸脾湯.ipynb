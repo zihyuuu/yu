{
  "nbformat": 4,
  "nbformat_minor": 0,
  "metadata": {
    "colab": {
      "provenance": []
    },
    "kernelspec": {
      "name": "python3",
      "display_name": "Python 3"
    },
    "language_info": {
      "name": "python"
    }
  },
  "cells": [
    {
      "cell_type": "code",
      "execution_count": 2,
      "metadata": {
        "id": "5GFUIdZi5Wqa",
        "colab": {
          "base_uri": "https://localhost:8080/"
        },
        "outputId": "8eb555d9-b1ee-48a6-f6e4-6f4b903e6948"
      },
      "outputs": [
        {
          "output_type": "stream",
          "name": "stdout",
          "text": [
            "\n",
            "您想查詢什麼？(藥方名稱/出典/處方/效能/適應症/退出查詢)：藥方名稱\n",
            "歸脾湯\n",
            "\n",
            "您想查詢什麼？(藥方名稱/出典/處方/效能/適應症/退出查詢)：出典\n",
            "歸脾湯的出典為:校註婦人良方\n",
            "\n",
            "您想查詢什麼？(藥方名稱/出典/處方/效能/適應症/退出查詢)：處方\n",
            "歸脾湯的處方為:\n",
            "人參：3公克\n",
            "龍眼肉：3公克\n",
            "黃耆：3公克\n",
            "灸甘草：1.5公克\n",
            "白朮：3公克\n",
            "茯苓：3公克\n",
            "木香：1.5公克\n",
            "當歸：3公克\n",
            "酸棗仁：3公克\n",
            "遠志：3公克\n",
            "生薑：2公克\n",
            "大棗：2公克\n",
            "總克數為：31.0公克\n",
            "\n",
            "您想查詢什麼？(藥方名稱/出典/處方/效能/適應症/退出查詢)：效能\n",
            "歸脾湯的效能是:健脾寧心、益氣補血\n",
            "\n",
            "您想查詢什麼？(藥方名稱/出典/處方/效能/適應症/退出查詢)：適應症\n",
            "歸脾湯的適應症有:\n",
            "心脾兩虛\n",
            "氣血不足\n",
            "心悸\n",
            "不眠\n",
            "食少體倦\n",
            "月經不調\n",
            "\n",
            "您想查詢什麼？(藥方名稱/出典/處方/效能/適應症/退出查詢)：退出查詢\n",
            "感謝使用，再見！\n"
          ]
        }
      ],
      "source": [
        "# 定義歸脾湯的資料\n",
        "prescription = {\n",
        "    '名稱': '歸脾湯',\n",
        "    '出典': '校註婦人良方',\n",
        "    '處方': {\n",
        "        '人參': 3,  # 公克\n",
        "        '龍眼肉': 3,\n",
        "        '黃耆': 3,\n",
        "        '灸甘草': 1.5,\n",
        "        '白朮': 3,\n",
        "        '茯苓': 3,\n",
        "        '木香':1.5,\n",
        "        '當歸':3,\n",
        "        '酸棗仁':3,\n",
        "        '遠志':3,\n",
        "        '生薑':2,\n",
        "        '大棗':2\n",
        "    },\n",
        "    '效能': '健脾寧心、益氣補血',\n",
        "    '適應症': ['心脾兩虛', '氣血不足', '心悸', '不眠', '食少體倦', '月經不調']\n",
        "}\n",
        "\n",
        "# 使用 while 迴圈提供查詢服務\n",
        "while True:\n",
        "    query = input(\"\\n您想查詢什麼？(藥方名稱/出典/處方/效能/適應症/退出查詢)：\")\n",
        "\n",
        "    if query == \"藥方名稱\":\n",
        "        print(f\"{prescription['名稱']}\")\n",
        "    elif query == \"出典\":\n",
        "        print(f\"{prescription['名稱']}的出典為:{prescription['出典']}\")\n",
        "    elif query == \"適應症\":\n",
        "        print(f\"{prescription['名稱']}的適應症有:\")\n",
        "        for symptom in prescription['適應症']:\n",
        "            print(symptom)\n",
        "    elif query == \"處方\":\n",
        "        total_weight = sum(prescription['處方'].values())\n",
        "        print(f\"{prescription['名稱']}的處方為:\")\n",
        "        for medicine, weight in prescription['處方'].items():\n",
        "            print(f\"{medicine}：{weight}公克\")\n",
        "        print(f\"總克數為：{total_weight}公克\")\n",
        "    elif query == \"效能\":\n",
        "        print(f\"{prescription['名稱']}的效能是:{prescription['效能']}\")\n",
        "    elif query == \"退出查詢\":\n",
        "        print(\"感謝使用，再見！\")\n",
        "        break\n",
        "    else:\n",
        "        print(\"輸入無效，請重新輸入。\")"
      ]
    }
  ]
}